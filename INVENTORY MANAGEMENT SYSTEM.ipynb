{
 "cells": [
  {
   "cell_type": "code",
   "execution_count": 1,
   "id": "c1bdf0e5",
   "metadata": {},
   "outputs": [],
   "source": [
    "record={'0104601':{ 'Product Name':'Dabur Honey','Expiry Date':'08/2022','Availability':45,'MRP':230,'Profit %':2 },\n",
    "        '0104602':{ 'Product Name':'Maggie Noodles','Expiry Date':'12/2021','Availability':35,'MRP':125,'Profit %':3 },\n",
    "        '0104603':{ 'Product Name':'Tata Salt','Expiry Date':'10/2021','Availability':50,'MRP':245,'Profit %':5 },\n",
    "        '0104604':{ 'Product Name':'Kissan Tomato Ketchup','Expiry Date':'04/2022','Availability':80,'MRP':80,'Profit %':4 },\n",
    "        '0104605':{ 'Product Name':'Bournvita','Expiry Date':'03/2022','Availability':92,'MRP':170,'Profit %':8 },\n",
    "        '0104606':{ 'Product Name':'Apple Cider Vinegar','Expiry Date':'02/2022','Availability':56,'MRP':380,'Profit %':2 },\n",
    "        '0104607':{ 'Product Name':'Tata Tea Gold','Expiry Date':'08/2022','Availability':37,'MRP':135,'Profit %':6 },\n",
    "        '0104608':{ 'Product Name':'Dairy Milk Silk','Expiry Date':'10/2022','Availability':42,'MRP':120,'Profit %':7 },\n",
    "        '0104609':{ 'Product Name':'Dark Fantasy','Expiry Date':'07/2022','Availability':75,'MRP':85,'Profit %':6 },\n",
    "        '0104610':{ 'Product Name':'Good Day','Expiry Date':'10/2022','Availability':85,'MRP':420,'Profit %':2 },\n",
    "        '0104611':{ 'Product Name':'Hersheys Kisses','Expiry Date':'09/2021','Availability':43,'MRP':145,'Profit %':1 },\n",
    "        '0104612':{ 'Product Name':'Bournville','Expiry Date':'03/2022','Availability':87,'MRP':95,'Profit %':5 },\n",
    "        '0104613':{ 'Product Name':'Hershays syrup','Expiry Date':'06/2022','Availability':96,'MRP':450,'Profit %':7 },\n",
    "        '0104614':{ 'Product Name':'Amul Dark Chocolate','Expiry Date':'05/2022','Availability':87,'MRP':350,'Profit %':9 },\n",
    "        '0104615':{ 'Product Name':'Kellogs Chocos','Expiry Date':'01/2022','Availability':64,'MRP':250,'Profit %':3 },\n",
    "        '0104616':{ 'Product Name':'Complan','Expiry Date':'03/2022','Availability':29,'MRP':375,'Profit %':6 },\n",
    "        '0104617':{ 'Product Name':'Lotte Chocopie','Expiry Date':'04/2022','Availability':32,'MRP':560,'Profit %':8 },\n",
    "        '0104618':{ 'Product Name':'Nestle Milky Bar','Expiry Date':'11/2022','Availability':84,'MRP':75,'Profit %':9 },\n",
    "        '0104619':{ 'Product Name':'Nestle KitKat','Expiry Date':'06/2022','Availability':76,'MRP':85,'Profit %':4 },\n",
    "        '0104620':{ 'Product Name':'Nestle Munch','Expiry Date':'05/2022','Availability':37,'MRP':65,'Profit %':'' },\n",
    "        '0104621':{ 'Product Name':'Cadbury Hot Chocolate Drink','Expiry Date':'02/2022','Availability':53,'MRP':375,'Profit %':5 },\n",
    "        '0104622':{ 'Product Name':'Horlicks','Expiry Date':'06/2022','Availability':38,'MRP':545,'Profit %':7 },\n",
    "        '0104623':{ 'Product Name':'Pedia sure','Expiry Date':'07/2022','Availability':47,'MRP':850,'Profit %':9},\n",
    "        '0104624':{ 'Product Name':'Parle G','Expiry Date':'10/2022','Availability':52,'MRP':75,'Profit %':8 },\n",
    "        '0104625':{ 'Product Name':'Cadbury Gems','Expiry Date':'01/2022','Availability':58,'MRP':50,'Profit %':10 },\n",
    "        '0104626':{ 'Product Name':'Snickers','Expiry Date':'08/2022','Availability':63,'MRP':85,'Profit %':4 },\n",
    "        '0104627':{ 'Product Name':'Brittania Cakes','Expiry Date':'09/2022','Availability':46,'MRP':65,'Profit %':3 },\n",
    "        '0104628':{ 'Product Name':'Lays Chips','Expiry Date':'10/2022','Availability':74,'MRP':40,'Profit %':9 },\n",
    "        '0104629':{ 'Product Name':'Little Hearts','Expiry Date':'11/2022','Availability':78,'MRP':125,'Profit %':8 },\n",
    "        '0104630':{ 'Product Name':'Nutella','Expiry Date':'12/2022','Availability':150,'MRP':520,'Profit %':12 }}"
   ]
  },
  {
   "cell_type": "code",
   "execution_count": 2,
   "id": "83955e8a",
   "metadata": {},
   "outputs": [],
   "source": [
    "import json"
   ]
  },
  {
   "cell_type": "code",
   "execution_count": 3,
   "id": "64d68cea",
   "metadata": {},
   "outputs": [
    {
     "data": {
      "text/plain": [
       "str"
      ]
     },
     "execution_count": 3,
     "metadata": {},
     "output_type": "execute_result"
    }
   ],
   "source": [
    "js = json.dumps(record)\n",
    "type(js)"
   ]
  },
  {
   "cell_type": "code",
   "execution_count": 4,
   "id": "0f22fa61",
   "metadata": {},
   "outputs": [],
   "source": [
    "fd = open(\"record.json\", 'w')\n",
    "fd.write(js)\n",
    "fd.close()"
   ]
  },
  {
   "cell_type": "code",
   "execution_count": 5,
   "id": "948b58d3",
   "metadata": {},
   "outputs": [],
   "source": [
    "fd = open(\"record.json\",'r')\n",
    "txt = fd.read()\n",
    "fd.close()"
   ]
  },
  {
   "cell_type": "code",
   "execution_count": 6,
   "id": "ac92175d",
   "metadata": {},
   "outputs": [],
   "source": [
    "record = json.loads(txt)"
   ]
  },
  {
   "cell_type": "code",
   "execution_count": 7,
   "id": "8b7a159e",
   "metadata": {},
   "outputs": [],
   "source": [
    "sales={'Product ID':'Quantity sold'}"
   ]
  },
  {
   "cell_type": "code",
   "execution_count": 13,
   "id": "5708294e",
   "metadata": {},
   "outputs": [
    {
     "name": "stdout",
     "output_type": "stream",
     "text": [
      "Choose 1 if u want to check the availability of a certain product\n",
      "Choose 2 if you want to print a bill for chosen items\n",
      "Choose 3 if you want to check the expiry of certain items\n",
      "Choose 4 if u want to check the total no. of sales with the current stock\n",
      "Enter 1/2/3/4:4\n",
      "The total sales is as follows:\n",
      "{'Product ID': 'Quantity sold', '0104625': 4, '0104624': 3, '0104610': 3}\n"
     ]
    }
   ],
   "source": [
    "print(\"Choose 1 if u want to check the availability of a certain product\")\n",
    "print(\"Choose 2 if you want to print a bill for chosen items\")      \n",
    "print(\"Choose 3 if you want to check the expiry of certain items\")\n",
    "print(\"Choose 4 if u want to check the total no. of sales with the current stock\")\n",
    "ch=int(input(\"Enter 1/2/3/4:\"))\n",
    "if ch==1:\n",
    "    pid=input(\"Enter the product ID:\")\n",
    "    if pid in record:\n",
    "        if record[pid]['Availability']>0:\n",
    "            print(\"The qty available is:\",record[pid]['Availability'])\n",
    "        else:\n",
    "            print(\"Sorry the product you asked for is currently unavailable!\")\n",
    "    else:\n",
    "        print(\"Sorry the product you asked for is currently unavailable!\")\n",
    "if ch==2:        \n",
    "    no_of_products = int(input(\"Enter number of products bought:\"))\n",
    "    STR=''\n",
    "    amt=0\n",
    "    x=1\n",
    "    for i in range(no_of_products):\n",
    "\n",
    "      uinput_ID=input(\"Enter the Product ID:\")\n",
    "      uinput_qty=int(input(\"Enter product quantity:\"))\n",
    "  \n",
    "      if uinput_ID in record:\n",
    "        sales[uinput_ID]=uinput_qty\n",
    "        # 1. displaying price including profit% in the bill\n",
    "        # 2. updating record accordingly\n",
    "        record[uinput_ID]['Availability']-=uinput_qty\n",
    "        # 3. generating bill\n",
    "        pro_price= record[uinput_ID]['MRP']+(record[uinput_ID]['Profit %']*0.01*record[uinput_ID]['MRP'])\n",
    "        STR+=str(x)+ \"  \" +str(record[uinput_ID]['Product Name'])+\"  \"+\"PRICE PER QTY:\"+ str(pro_price)+\"  \"+\"QTY PURCHASED:\"+str(uinput_qty)+\"\\n\"\n",
    "        amt+=pro_price*uinput_qty\n",
    "        x+=1\n",
    "        \n",
    "        \n",
    "      else:\n",
    "        print(\"The product ID is wrong!\")\n",
    "    print(\"The bill generated is:\")\n",
    "    print(\"______________________________________________________________________\")\n",
    "    print(\"BILL\")\n",
    "    print(STR)    \n",
    "    print(\"**********************************************************************\")\n",
    "    print(\"THE TOTAL AMOUNT TO BE PAID IS:\",amt) \n",
    "    print(\"THANKYOU FOR SHOPPING WITH US!\")\n",
    "    print(\"DO COME AGAIN!\")\n",
    "    print(\"______________________________________________________________________\")\n",
    "    \n",
    "    #some recommended items\n",
    "if ch==3:\n",
    "    #to check expiry of a product using datetime module to check if a product is expired anytime\n",
    "    from datetime import datetime\n",
    "    currentYear = datetime.now().year\n",
    "    currentMonth = datetime.now().month\n",
    "    prod_ID=input(\"Enter product ID:\")\n",
    "    Exp = record[prod_ID]['Expiry Date']\n",
    "    if int(Exp[3:7])>currentYear:\n",
    "        print(\"Yes the product can be consumed till \",Exp)\n",
    "    else:\n",
    "        if int(Exp[3:7])==currentYear:\n",
    "            if int(Exp[0:2])>=currentMonth:\n",
    "                print(\"Yes the product can be consumed till \",Exp)\n",
    "            else:\n",
    "                print(\"Sorry the product has expired!\")\n",
    "if ch==4:\n",
    "    #to check the total sales made with the current stock\n",
    "    print(\"The total sales is as follows:\")\n",
    "    print(sales)\n"
   ]
  },
  {
   "cell_type": "code",
   "execution_count": 12,
   "id": "c2dfc333",
   "metadata": {},
   "outputs": [
    {
     "data": {
      "text/plain": [
       "'2022'"
      ]
     },
     "execution_count": 12,
     "metadata": {},
     "output_type": "execute_result"
    }
   ],
   "source": [
    "record['0104610']['Expiry Date'][3:7]"
   ]
  },
  {
   "cell_type": "code",
   "execution_count": null,
   "id": "57a608b4",
   "metadata": {},
   "outputs": [],
   "source": []
  }
 ],
 "metadata": {
  "kernelspec": {
   "display_name": "Python 3",
   "language": "python",
   "name": "python3"
  },
  "language_info": {
   "codemirror_mode": {
    "name": "ipython",
    "version": 3
   },
   "file_extension": ".py",
   "mimetype": "text/x-python",
   "name": "python",
   "nbconvert_exporter": "python",
   "pygments_lexer": "ipython3",
   "version": "3.9.6"
  }
 },
 "nbformat": 4,
 "nbformat_minor": 5
}
